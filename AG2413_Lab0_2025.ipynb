{
  "cells": [
    {
      "cell_type": "markdown",
      "id": "20de97de",
      "metadata": {
        "id": "20de97de"
      },
      "source": [
        "\n",
        "# AG2413 Digital Image Processing and Applications — **Lab 0**\n",
        "Andrea Nascetti, Eric Brune  \n",
        "\n",
        "> You will work in **Google Colab** or **Jupyter** using the **Earth Engine Python API** and **geemap** for interactive maps.\n"
      ]
    },
    {
      "cell_type": "markdown",
      "id": "f26802f6",
      "metadata": {
        "id": "f26802f6"
      },
      "source": [
        "\n",
        "## Background: Google Earth Engine (GEE)\n",
        "Google Earth Engine (GEE) is a cloud-based computing platform hosted by Google. GEE provides direct access to a multi-petabyte catalogue of satellite imagery and geospatial datasets and exposes **APIs for JavaScript and Python** to perform planetary-scale analysis of the Earth's surface.\n",
        "\n",
        "**Main components of GEE**  \n",
        "1) A petabyte-scale archive of publicly available remotely sensed imagery and other data.  \n",
        "2) A computational infrastructure optimized for parallel processing of geospatial data.  \n",
        "3) Application Programming Interfaces (APIs) for **JavaScript and Python** to make requests to the Earth Engine servers.\n"
      ]
    },
    {
      "cell_type": "markdown",
      "id": "bfbd6d48",
      "metadata": {
        "id": "bfbd6d48"
      },
      "source": [
        "\n",
        "## Objective\n",
        "This lab introduces the fundamentals needed to use the GEE **Python** API and guides you through several basic tasks.  \n",
        "At the end of this lab, you will be able to use GEE to perform the following tasks:\n",
        "- Run basic **Python** commands.\n",
        "- Display and clip images.\n",
        "- Explore image collections and their metadata.\n",
        "- Filter image collections.\n",
        "- Perform simple image band calculations (e.g., NDVI).\n",
        "- Import (upload) and **export** images.\n"
      ]
    },
    {
      "cell_type": "markdown",
      "id": "c813d35c",
      "metadata": {
        "id": "c813d35c"
      },
      "source": [
        "\n",
        "## Pre-lab requirements (complete **before** the lab starts)\n",
        "- Create (or verify) a Google account (e.g., `abcdef@gmail.com`).\n",
        "- Register for a GEE account at <https://earthengine.google.com/signup/>.\n",
        "- **Python environment:** Use **Google Colab** (recommended) or local **Jupyter**.\n"
      ]
    },
    {
      "cell_type": "markdown",
      "id": "0ef6bed5",
      "metadata": {
        "id": "0ef6bed5"
      },
      "source": [
        "\n",
        "---\n",
        "# Part 0 — Python setup for Earth Engine & geemap\n",
        "Run the next two cells **once at the top** of your notebook session (every new session in Colab).  \n",
        "- The first cell installs required packages.  \n",
        "- The second cell authenticates and initializes Earth Engine and sets up an interactive map.\n"
      ]
    },
    {
      "cell_type": "code",
      "execution_count": null,
      "id": "afbda746",
      "metadata": {
        "id": "afbda746"
      },
      "outputs": [],
      "source": [
        "\n",
        "# If running in Colab or a fresh Jupyter environment, install dependencies:\n",
        "# (Re-run this cell at the start of each new session if packages are missing.)\n",
        "#%pip install --quiet earthengine-api geemap\n"
      ]
    },
    {
      "cell_type": "markdown",
      "id": "a50b1e92",
      "metadata": {},
      "source": []
    },
    {
      "cell_type": "code",
      "execution_count": 1,
      "id": "71fbfacb",
      "metadata": {
        "id": "71fbfacb"
      },
      "outputs": [
        {
          "name": "stdout",
          "output_type": "stream",
          "text": [
            "Earth Engine is already initialized.\n"
          ]
        },
        {
          "data": {
            "application/vnd.jupyter.widget-view+json": {
              "model_id": "969d666e33744667b8943078428d9fe4",
              "version_major": 2,
              "version_minor": 0
            },
            "text/plain": [
              "Map(center=[0, 0], controls=(WidgetControl(options=['position', 'transparent_bg'], position='topright', transp…"
            ]
          },
          "execution_count": 1,
          "metadata": {},
          "output_type": "execute_result"
        }
      ],
      "source": [
        "\n",
        "import ee, geemap\n",
        "import cv2\n",
        "\n",
        "project_name = \"ethereal-radar-429117-r7\"\n",
        "\n",
        "\n",
        "# Authenticate on first use (opens a link in Colab). In local Jupyter, it will open a browser.\n",
        "try:\n",
        "    ee.Initialize(project = project_name)\n",
        "    print(\"Earth Engine is already initialized.\")\n",
        "except Exception:\n",
        "    ee.Authenticate()  # Follow the link and paste the code when prompted\n",
        "    ee.Initialize(project = project_name)\n",
        "    print(\"Earth Engine has been authenticated and initialized.\")\n",
        "\n",
        "# Create a map instance you can reuse throughout the lab\n",
        "Map = geemap.Map()\n",
        "Map\n"
      ]
    },
    {
      "cell_type": "markdown",
      "id": "364c6cda",
      "metadata": {
        "id": "364c6cda"
      },
      "source": [
        "\n",
        "---\n",
        "# Part 1 — Getting started with Earth Engine in **Python**\n",
        "For this course, we will use **Python** + **geemap** in a notebook:\n",
        "- Code cells replace the Code Editor's Script panel.\n",
        "- The **map widget** below each cell replaces the Code Editor's map window and layer manager.\n",
        "- The notebook cell output replaces the Code Editor's **Console/Inspector**.\n",
        "- There is **no Tasks tab** in a notebook; we manage exports via Python (`ee.batch.Export...`) and check status with `task.status()`.\n"
      ]
    },
    {
      "cell_type": "markdown",
      "id": "8e5706d5",
      "metadata": {
        "id": "8e5706d5"
      },
      "source": [
        "\n",
        "## 1.2 Running your first Python cell\n",
        "Execute the cell below.\n"
      ]
    },
    {
      "cell_type": "code",
      "execution_count": 2,
      "id": "90fbfd2c",
      "metadata": {
        "id": "90fbfd2c"
      },
      "outputs": [
        {
          "data": {
            "text/html": [
              "\n",
              "            <style>\n",
              "                .geemap-dark {\n",
              "                    --jp-widgets-color: white;\n",
              "                    --jp-widgets-label-color: white;\n",
              "                    --jp-ui-font-color1: white;\n",
              "                    --jp-layout-color2: #454545;\n",
              "                    background-color: #383838;\n",
              "                }\n",
              "\n",
              "                .geemap-dark .jupyter-button {\n",
              "                    --jp-layout-color3: #383838;\n",
              "                }\n",
              "\n",
              "                .geemap-colab {\n",
              "                    background-color: var(--colab-primary-surface-color, white);\n",
              "                }\n",
              "\n",
              "                .geemap-colab .jupyter-button {\n",
              "                    --jp-layout-color3: var(--colab-primary-surface-color, white);\n",
              "                }\n",
              "            </style>\n",
              "            "
            ],
            "text/plain": [
              "<IPython.core.display.HTML object>"
            ]
          },
          "metadata": {},
          "output_type": "display_data"
        },
        {
          "name": "stdout",
          "output_type": "stream",
          "text": [
            "Hello, World!\n",
            "1 + 2 = 3\n"
          ]
        }
      ],
      "source": [
        "\n",
        "print(\"Hello, World!\")\n",
        "a = 1\n",
        "b = 2\n",
        "print(f\"{a} + {b} = {a+b}\")\n"
      ]
    },
    {
      "cell_type": "markdown",
      "id": "bf920438",
      "metadata": {
        "id": "bf920438"
      },
      "source": [
        "\n",
        "## 1.3 Sharing your work\n",
        "**Share your notebook**:\n",
        "- **Colab:** File → Share → set to \"Anyone with the link (Viewer)\" and submit the link.\n",
        "- **GitHub / Drive:** Commit the `.ipynb` or place it in Drive and share a view link.\n",
        "- Include requested **screenshots** of map outputs (right-click the map output → Save image, or use your OS screenshot tool).\n"
      ]
    },
    {
      "cell_type": "markdown",
      "id": "dc72faab",
      "metadata": {
        "id": "dc72faab"
      },
      "source": [
        "\n",
        "## 1.4 Python basics (translated from the JavaScript section)\n",
        "A few quick translations from the original JavaScript notes to Python:\n",
        "\n",
        "- Python ends statements with **newlines** (no semicolons).\n",
        "- Create variables directly (no `var`).  \n",
        "- Strings use single `'` or double `\"` quotes.\n",
        "- Lists use square brackets `[]` and are **zero-indexed** (first element is index `0`).\n",
        "- Dictionaries (like JS objects) use curly braces `{}` with key-value pairs.\n",
        "- Use `#` for comments; use triple quotes for multi-line strings if needed.\n",
        "- Use functions with `def` and `return`.\n",
        "\n",
        "> Note: On the Earth Engine server side, Python and JavaScript call **the same EE functions**. The algorithm semantics are the same; only client-side syntax differs.\n"
      ]
    },
    {
      "cell_type": "code",
      "execution_count": 3,
      "id": "8e4be8e3",
      "metadata": {
        "id": "8e4be8e3"
      },
      "outputs": [
        {
          "data": {
            "text/html": [
              "\n",
              "            <style>\n",
              "                .geemap-dark {\n",
              "                    --jp-widgets-color: white;\n",
              "                    --jp-widgets-label-color: white;\n",
              "                    --jp-ui-font-color1: white;\n",
              "                    --jp-layout-color2: #454545;\n",
              "                    background-color: #383838;\n",
              "                }\n",
              "\n",
              "                .geemap-dark .jupyter-button {\n",
              "                    --jp-layout-color3: #383838;\n",
              "                }\n",
              "\n",
              "                .geemap-colab {\n",
              "                    background-color: var(--colab-primary-surface-color, white);\n",
              "                }\n",
              "\n",
              "                .geemap-colab .jupyter-button {\n",
              "                    --jp-layout-color3: var(--colab-primary-surface-color, white);\n",
              "                }\n",
              "            </style>\n",
              "            "
            ],
            "text/plain": [
              "<IPython.core.display.HTML object>"
            ]
          },
          "metadata": {},
          "output_type": "display_data"
        },
        {
          "name": "stdout",
          "output_type": "stream",
          "text": [
            "First item: eggplant\n",
            "Color via key: red\n",
            "Color via get(): red\n",
            "Subtracting two from three equals 1\n",
            "Hello world!\n",
            "1 plus 3 is 4\n"
          ]
        }
      ],
      "source": [
        "\n",
        "# Lists, dicts, indexing\n",
        "my_list = ['eggplant', 'apple', 'wheat']\n",
        "print('First item:', my_list[0])\n",
        "\n",
        "my_dict = {'food': 'bread', 'color': 'red', 'number': 42}\n",
        "print('Color via key:', my_dict['color'])\n",
        "print('Color via get():', my_dict.get('color'))\n",
        "\n",
        "# Simple math\n",
        "print('Subtracting two from three equals', 3-2)\n",
        "\n",
        "# Functions\n",
        "def my_hello_function(s: str) -> str:\n",
        "    return f\"Hello {s}!\"\n",
        "\n",
        "def add_function(a: int) -> int:\n",
        "    return a + 3\n",
        "\n",
        "print(my_hello_function('world'))\n",
        "a = 1\n",
        "print(f\"{a} plus 3 is {add_function(a)}\")\n"
      ]
    },
    {
      "cell_type": "markdown",
      "id": "4dfee673",
      "metadata": {
        "id": "4dfee673"
      },
      "source": [
        "\n",
        "## 1.5 Simple image visualization and analysis in Python\n",
        "We'll load a **Landsat 5** TOA image and visualize it. We'll also create a Region of Interest (ROI) and clip to it.\n",
        "\n",
        "**Tip:** `Map.addLayer(ee_object, vis_params, name)` in geemap mirrors the JS signature.\n"
      ]
    },
    {
      "cell_type": "code",
      "execution_count": 4,
      "id": "fce39db9",
      "metadata": {
        "id": "fce39db9"
      },
      "outputs": [
        {
          "data": {
            "text/html": [
              "\n",
              "            <style>\n",
              "                .geemap-dark {\n",
              "                    --jp-widgets-color: white;\n",
              "                    --jp-widgets-label-color: white;\n",
              "                    --jp-ui-font-color1: white;\n",
              "                    --jp-layout-color2: #454545;\n",
              "                    background-color: #383838;\n",
              "                }\n",
              "\n",
              "                .geemap-dark .jupyter-button {\n",
              "                    --jp-layout-color3: #383838;\n",
              "                }\n",
              "\n",
              "                .geemap-colab {\n",
              "                    background-color: var(--colab-primary-surface-color, white);\n",
              "                }\n",
              "\n",
              "                .geemap-colab .jupyter-button {\n",
              "                    --jp-layout-color3: var(--colab-primary-surface-color, white);\n",
              "                }\n",
              "            </style>\n",
              "            "
            ],
            "text/plain": [
              "<IPython.core.display.HTML object>"
            ]
          },
          "metadata": {},
          "output_type": "display_data"
        },
        {
          "data": {
            "application/vnd.jupyter.widget-view+json": {
              "model_id": "71afcb2d18384aaabd73ece322950728",
              "version_major": 2,
              "version_minor": 0
            },
            "text/plain": [
              "Map(center=[43.046, -76.147], controls=(WidgetControl(options=['position', 'transparent_bg'], position='toprig…"
            ]
          },
          "execution_count": 4,
          "metadata": {},
          "output_type": "execute_result"
        }
      ],
      "source": [
        "\n",
        "# Create a fresh map for this section\n",
        "Map = geemap.Map()\n",
        "\n",
        "# Landsat 5 TOA image\n",
        "myimage = ee.Image('LANDSAT/LT05/C02/T1_TOA/LT05_015030_20100531')\n",
        "\n",
        "# Syracuse city center\n",
        "lon, lat = -76.147, 43.046\n",
        "Map.setCenter(lon, lat, 10)\n",
        "\n",
        "# Default display (not very informative)\n",
        "Map.addLayer(myimage, {}, 'Layer 1 (default)')\n",
        "\n",
        "# Color IR composite via explicit bands\n",
        "vizParams = {\n",
        "    'bands': ['B4', 'B3', 'B2'],\n",
        "    'min': 0,\n",
        "    'max': 0.5,\n",
        "    'gamma': [0.95, 1.1, 1]\n",
        "}\n",
        "Map.addLayer(myimage, vizParams, 'Color IR composite 3')\n",
        "\n",
        "# ROI: 20 km buffer around a point\n",
        "roi = ee.Geometry.Point([lon, lat]).buffer(20000)\n",
        "Map.addLayer(roi, {}, 'ROI')\n",
        "Map.addLayer(myimage.clip(roi), vizParams, 'Color IR composite 4 (clipped)')\n",
        "\n",
        "Map\n"
      ]
    },
    {
      "cell_type": "markdown",
      "id": "27c41f4c",
      "metadata": {
        "id": "27c41f4c"
      },
      "source": [
        "\n",
        "### Part 1 – Task 1\n",
        "- Include a **shareable link** to this notebook in your lab report.  \n",
        "- Include a **screenshot** of your Landsat image (**Color IR composite 4**) from the map above.\n"
      ]
    },
    {
      "cell_type": "markdown",
      "id": "9d8205a2",
      "metadata": {
        "id": "9d8205a2"
      },
      "source": [
        "\n",
        "## 1.6 Exploring image collections and metadata\n",
        "An `ee.ImageCollection` is a stack (time series) of images. Below, we filter by bounds and date, and sort by cloud cover.\n"
      ]
    },
    {
      "cell_type": "code",
      "execution_count": 5,
      "id": "d8ff5a4c",
      "metadata": {
        "id": "d8ff5a4c"
      },
      "outputs": [
        {
          "data": {
            "text/html": [
              "\n",
              "            <style>\n",
              "                .geemap-dark {\n",
              "                    --jp-widgets-color: white;\n",
              "                    --jp-widgets-label-color: white;\n",
              "                    --jp-ui-font-color1: white;\n",
              "                    --jp-layout-color2: #454545;\n",
              "                    background-color: #383838;\n",
              "                }\n",
              "\n",
              "                .geemap-dark .jupyter-button {\n",
              "                    --jp-layout-color3: #383838;\n",
              "                }\n",
              "\n",
              "                .geemap-colab {\n",
              "                    background-color: var(--colab-primary-surface-color, white);\n",
              "                }\n",
              "\n",
              "                .geemap-colab .jupyter-button {\n",
              "                    --jp-layout-color3: var(--colab-primary-surface-color, white);\n",
              "                }\n",
              "            </style>\n",
              "            "
            ],
            "text/plain": [
              "<IPython.core.display.HTML object>"
            ]
          },
          "metadata": {},
          "output_type": "display_data"
        },
        {
          "name": "stdout",
          "output_type": "stream",
          "text": [
            "Number of images in filtered collection: 11\n",
            "Least cloud cover for first image: 2.08\n",
            "Count (path 15/row 30, 2014): 16\n",
            "Sun elevation stats: {'max': 64.16618396, 'mean': 44.783931544999994, 'min': 21.2336852, 'sample_sd': 14.671322089897272, 'sample_var': 215.24769186550765, 'sum': 716.5429047199999, 'sum_sq': 35318.32377201854, 'total_count': 16, 'total_sd': 14.205446530254282, 'total_var': 201.79471112391343, 'valid_count': 16, 'weight_sum': 16, 'weighted_sum': 716.5429047199999}\n",
            "Least cloudy image (ID): LC80150302014114LGN01\n",
            "Most recent 10 images (IDs): ['LC80150302014354LGN02', 'LC80150302014338LGN01', 'LC80150302014322LGN01', 'LC80150302014306LGN01', 'LC80150302014290LGN01', 'LC80150302014274LGN01', 'LC80150302014258LGN01', 'LC80150302014242LGN01', 'LC80150302014226LGN01', 'LC80150302014210LGN01']\n"
          ]
        }
      ],
      "source": [
        "\n",
        "point = ee.Geometry.Point([lon, lat])\n",
        "start = ee.Date('2014-06-01')\n",
        "end   = ee.Date('2014-10-01')\n",
        "\n",
        "filtered = (ee.ImageCollection('LANDSAT/LC08/C02/T1')\n",
        "            .filterBounds(point)\n",
        "            .filterDate(start, end)\n",
        "            .sort('CLOUD_COVER', True))\n",
        "\n",
        "first = ee.Image(filtered.first())\n",
        "\n",
        "# Use getInfo() sparingly for small metadata/counts:\n",
        "print('Number of images in filtered collection:', filtered.size().getInfo())\n",
        "print('Least cloud cover for first image:', first.get('CLOUD_COVER').getInfo())\n",
        "\n",
        "# Limit by WRS path/row and compute stats (Landsat 8 TOA)\n",
        "collection = (ee.ImageCollection('LANDSAT/LC08/C02/T1_TOA')\n",
        "              .filter(ee.Filter.eq('WRS_PATH', 15))\n",
        "              .filter(ee.Filter.eq('WRS_ROW', 30))\n",
        "              .filterDate('2014-01-01', '2015-01-01'))\n",
        "\n",
        "print('Count (path 15/row 30, 2014):', collection.size().getInfo())\n",
        "\n",
        "sun_stats = collection.aggregate_stats('SUN_ELEVATION').getInfo()\n",
        "print('Sun elevation stats:', sun_stats)\n",
        "\n",
        "image = ee.Image(collection.sort('CLOUD_COVER').first())\n",
        "print('Least cloudy image (ID):', image.get('LANDSAT_SCENE_ID').getInfo())\n",
        "\n",
        "recent = collection.sort('system:time_start', False).limit(10)\n",
        "print('Most recent 10 images (IDs):', recent.aggregate_array('LANDSAT_SCENE_ID').getInfo())\n"
      ]
    },
    {
      "cell_type": "markdown",
      "id": "c7de6fba",
      "metadata": {
        "id": "c7de6fba"
      },
      "source": [
        "\n",
        "## 1.7 Performing image band calculations (NDVI difference)\n",
        "Compute NDVI for two Landsat 5 scenes 20 years apart and visualize the difference.\n"
      ]
    },
    {
      "cell_type": "code",
      "execution_count": 6,
      "id": "e54694ca",
      "metadata": {
        "id": "e54694ca"
      },
      "outputs": [
        {
          "data": {
            "text/html": [
              "\n",
              "            <style>\n",
              "                .geemap-dark {\n",
              "                    --jp-widgets-color: white;\n",
              "                    --jp-widgets-label-color: white;\n",
              "                    --jp-ui-font-color1: white;\n",
              "                    --jp-layout-color2: #454545;\n",
              "                    background-color: #383838;\n",
              "                }\n",
              "\n",
              "                .geemap-dark .jupyter-button {\n",
              "                    --jp-layout-color3: #383838;\n",
              "                }\n",
              "\n",
              "                .geemap-colab {\n",
              "                    background-color: var(--colab-primary-surface-color, white);\n",
              "                }\n",
              "\n",
              "                .geemap-colab .jupyter-button {\n",
              "                    --jp-layout-color3: var(--colab-primary-surface-color, white);\n",
              "                }\n",
              "            </style>\n",
              "            "
            ],
            "text/plain": [
              "<IPython.core.display.HTML object>"
            ]
          },
          "metadata": {},
          "output_type": "display_data"
        },
        {
          "data": {
            "application/vnd.jupyter.widget-view+json": {
              "model_id": "d5f9b2f706c34513a761dbfec805e458",
              "version_major": 2,
              "version_minor": 0
            },
            "text/plain": [
              "Map(center=[43.046, -76.147], controls=(WidgetControl(options=['position', 'transparent_bg'], position='toprig…"
            ]
          },
          "execution_count": 6,
          "metadata": {},
          "output_type": "execute_result"
        }
      ],
      "source": [
        "\n",
        "def getNDVI(image):\n",
        "    # Landsat 5: NIR=B4, Red=B3\n",
        "    return image.normalizedDifference(['B4', 'B3']).rename('NDVI')\n",
        "\n",
        "image1 = ee.Image('LANDSAT/LT05/C02/T1_TOA/LT05_015030_19880619')\n",
        "image2 = ee.Image('LANDSAT/LT05/C02/T1_TOA/LT05_015030_20100531')\n",
        "\n",
        "ndvi1 = getNDVI(image1)\n",
        "ndvi2 = getNDVI(image2)\n",
        "ndviDifference = ndvi2.subtract(ndvi1).rename('NDVI_Diff')\n",
        "\n",
        "Map = geemap.Map()\n",
        "Map.setCenter(lon, lat, 10)\n",
        "Map.addLayer(ndviDifference, {'min': -1, 'max': 1}, 'NDVI difference')\n",
        "Map\n"
      ]
    },
    {
      "cell_type": "markdown",
      "id": "5e1c5690",
      "metadata": {
        "id": "5e1c5690"
      },
      "source": [
        "\n",
        "### Part 1 – Task 2\n",
        "- Include a shareable link to your notebook.  \n",
        "- **Select a region** where the NDVI difference between `image1` and `image2` is relatively large (bright).  \n",
        "- Include a **screenshot** of that area (NDVI difference **and** Satellite basemap).  \n",
        "- Identify the land cover and give a plausible explanation for the NDVI change.\n"
      ]
    },
    {
      "cell_type": "markdown",
      "id": "d157150c",
      "metadata": {
        "id": "d157150c"
      },
      "source": [
        "\n",
        "## 1.8 Exporting images (to Google Drive)\n",
        "In notebooks we start an export task and check its status from Python.\n"
      ]
    },
    {
      "cell_type": "code",
      "execution_count": 7,
      "id": "ef3b3036",
      "metadata": {
        "id": "ef3b3036"
      },
      "outputs": [
        {
          "data": {
            "text/html": [
              "\n",
              "            <style>\n",
              "                .geemap-dark {\n",
              "                    --jp-widgets-color: white;\n",
              "                    --jp-widgets-label-color: white;\n",
              "                    --jp-ui-font-color1: white;\n",
              "                    --jp-layout-color2: #454545;\n",
              "                    background-color: #383838;\n",
              "                }\n",
              "\n",
              "                .geemap-dark .jupyter-button {\n",
              "                    --jp-layout-color3: #383838;\n",
              "                }\n",
              "\n",
              "                .geemap-colab {\n",
              "                    background-color: var(--colab-primary-surface-color, white);\n",
              "                }\n",
              "\n",
              "                .geemap-colab .jupyter-button {\n",
              "                    --jp-layout-color3: var(--colab-primary-surface-color, white);\n",
              "                }\n",
              "            </style>\n",
              "            "
            ],
            "text/plain": [
              "<IPython.core.display.HTML object>"
            ]
          },
          "metadata": {},
          "output_type": "display_data"
        },
        {
          "name": "stdout",
          "output_type": "stream",
          "text": [
            "Export started. You can poll task.status() to see progress:\n",
            "{'state': 'READY', 'description': 'imageToDriveExample', 'priority': 100, 'creation_timestamp_ms': 1761654805228, 'update_timestamp_ms': 1761654805228, 'start_timestamp_ms': 0, 'task_type': 'EXPORT_IMAGE', 'id': 'ODEWOZADLZ3W5WBSUIF24V5B', 'name': 'projects/ethereal-radar-429117-r7/operations/ODEWOZADLZ3W5WBSUIF24V5B'}\n"
          ]
        }
      ],
      "source": [
        "\n",
        "# Example export of a Landsat 8 true-color image\n",
        "landsat = (ee.Image('LANDSAT/LC08/C02/T1_TOA/LC08_123032_20140515')\n",
        "           .select(['B4', 'B3', 'B2']))\n",
        "\n",
        "geometry = ee.Geometry.Rectangle([116.2621, 39.8412, 116.4849, 40.01236])\n",
        "\n",
        "task = ee.batch.Export.image.toDrive(\n",
        "    image=landsat,\n",
        "    description='imageToDriveExample',\n",
        "    scale=30,\n",
        "    region=geometry\n",
        ")\n",
        "task.start()\n",
        "print('Export started. You can poll task.status() to see progress:')\n",
        "print(task.status())\n"
      ]
    },
    {
      "cell_type": "markdown",
      "id": "e7d9f719",
      "metadata": {
        "id": "e7d9f719"
      },
      "source": [
        "\n",
        "## 1.9 Importing (uploading) images to Earth Engine\n",
        "To upload a GeoTIFF to your Earth Engine **Assets**, use one of the following:\n",
        "- **Earth Engine Assets web UI:** In the Earth Engine **Code Editor** under the **Assets** tab, click **NEW → Image upload**, choose your GeoTIFF, and follow the prompts. The uploaded image will appear under your user assets.\n",
        "- **(Optional) Command line:** The `earthengine` command-line tool supports uploads as well.\n",
        "\n",
        "> After ingestion completes, your asset will be available to import in Python using its asset ID (e.g., `users/yourname/folder/your_asset`).\n"
      ]
    },
    {
      "cell_type": "markdown",
      "id": "41b20eae",
      "metadata": {
        "id": "41b20eae"
      },
      "source": [
        "\n",
        "---\n",
        "# Part 2 — Searching and Visualizing **Landsat 8** imagery\n",
        "In this part, you'll search for a Landsat 8 scene over your **region of interest (ROI)** with few clouds and visualize it in multiple ways.\n"
      ]
    },
    {
      "cell_type": "markdown",
      "id": "a378487d",
      "metadata": {
        "id": "a378487d"
      },
      "source": [
        "\n",
        "## 2.1 Searching (and finding) your own Landsat imagery\n",
        "**a.** We'll work in this notebook cell rather than creating a separate JS file.  \n",
        "**b.** Define your ROI: you can either **set coordinates** directly or use the map to pick a point and then paste its coordinates here.  \n",
        "**c.** Import the 'USGS Landsat 8 Collection 1 Tier 1 TOA Reflectance' ImageCollection in Python by referencing its ID: `'LANDSAT/LC08/C01/T1_TOA'`.  \n",
        "**d.** Filter by date/location, sort by `'CLOUD_COVER'`, and take the first image.\n"
      ]
    },
    {
      "cell_type": "code",
      "execution_count": 8,
      "id": "b984d6e5",
      "metadata": {
        "id": "b984d6e5"
      },
      "outputs": [
        {
          "data": {
            "text/html": [
              "\n",
              "            <style>\n",
              "                .geemap-dark {\n",
              "                    --jp-widgets-color: white;\n",
              "                    --jp-widgets-label-color: white;\n",
              "                    --jp-ui-font-color1: white;\n",
              "                    --jp-layout-color2: #454545;\n",
              "                    background-color: #383838;\n",
              "                }\n",
              "\n",
              "                .geemap-dark .jupyter-button {\n",
              "                    --jp-layout-color3: #383838;\n",
              "                }\n",
              "\n",
              "                .geemap-colab {\n",
              "                    background-color: var(--colab-primary-surface-color, white);\n",
              "                }\n",
              "\n",
              "                .geemap-colab .jupyter-button {\n",
              "                    --jp-layout-color3: var(--colab-primary-surface-color, white);\n",
              "                }\n",
              "            </style>\n",
              "            "
            ],
            "text/plain": [
              "<IPython.core.display.HTML object>"
            ]
          },
          "metadata": {},
          "output_type": "display_data"
        },
        {
          "name": "stdout",
          "output_type": "stream",
          "text": [
            "A Landsat scene: ee.Image({\n",
            "  \"functionInvocationValue\": {\n",
            "    \"functionName\": \"Collection.first\",\n",
            "    \"arguments\": {\n",
            "      \"collection\": {\n",
            "        \"functionInvocationValue\": {\n",
            "          \"functionName\": \"Collection.limit\",\n",
            "          \"arguments\": {\n",
            "            \"collection\": {\n",
            "              \"functionInvocationValue\": {\n",
            "                \"functionName\": \"Collection.filter\",\n",
            "                \"arguments\": {\n",
            "                  \"collection\": {\n",
            "                    \"functionInvocationValue\": {\n",
            "                      \"functionName\": \"Collection.filter\",\n",
            "                      \"arguments\": {\n",
            "                        \"collection\": {\n",
            "                          \"functionInvocationValue\": {\n",
            "                            \"functionName\": \"ImageCollection.load\",\n",
            "                            \"arguments\": {\n",
            "                              \"id\": {\n",
            "                                \"constantValue\": \"LANDSAT/LC08/C02/T1_TOA\"\n",
            "                              }\n",
            "                            }\n",
            "                          }\n",
            "                        },\n",
            "                        \"filter\": {\n",
            "                          \"functionInvocationValue\": {\n",
            "                            \"functionName\": \"Filter.dateRangeContains\",\n",
            "                            \"arguments\": {\n",
            "                              \"leftValue\": {\n",
            "                                \"functionInvocationValue\": {\n",
            "                                  \"functionName\": \"DateRange\",\n",
            "                                  \"arguments\": {\n",
            "                                    \"end\": {\n",
            "                                      \"constantValue\": \"2021-12-31\"\n",
            "                                    },\n",
            "                                    \"start\": {\n",
            "                                      \"constantValue\": \"2021-01-01\"\n",
            "                                    }\n",
            "                                  }\n",
            "                                }\n",
            "                              },\n",
            "                              \"rightField\": {\n",
            "                                \"constantValue\": \"system:time_start\"\n",
            "                              }\n",
            "                            }\n",
            "                          }\n",
            "                        }\n",
            "                      }\n",
            "                    }\n",
            "                  },\n",
            "                  \"filter\": {\n",
            "                    \"functionInvocationValue\": {\n",
            "                      \"functionName\": \"Filter.intersects\",\n",
            "                      \"arguments\": {\n",
            "                        \"leftField\": {\n",
            "                          \"constantValue\": \".all\"\n",
            "                        },\n",
            "                        \"rightValue\": {\n",
            "                          \"functionInvocationValue\": {\n",
            "                            \"functionName\": \"Feature\",\n",
            "                            \"arguments\": {\n",
            "                              \"geometry\": {\n",
            "                                \"functionInvocationValue\": {\n",
            "                                  \"functionName\": \"GeometryConstructors.Point\",\n",
            "                                  \"arguments\": {\n",
            "                                    \"coordinates\": {\n",
            "                                      \"constantValue\": [\n",
            "                                        18.0686,\n",
            "                                        59.3293\n",
            "                                      ]\n",
            "                                    }\n",
            "                                  }\n",
            "                                }\n",
            "                              }\n",
            "                            }\n",
            "                          }\n",
            "                        }\n",
            "                      }\n",
            "                    }\n",
            "                  }\n",
            "                }\n",
            "              }\n",
            "            },\n",
            "            \"key\": {\n",
            "              \"constantValue\": \"CLOUD_COVER\"\n",
            "            }\n",
            "          }\n",
            "        }\n",
            "      }\n",
            "    }\n",
            "  }\n",
            "})\n",
            "Cloud cover: 0.02\n",
            "Acquisition date (DATE_ACQUIRED): 2021-04-19\n"
          ]
        },
        {
          "data": {
            "application/vnd.jupyter.widget-view+json": {
              "model_id": "ba4bbdcbed1244c68a9fb1d9a342c41f",
              "version_major": 2,
              "version_minor": 0
            },
            "text/plain": [
              "Map(center=[59.3293, 18.0686], controls=(WidgetControl(options=['position', 'transparent_bg'], position='topri…"
            ]
          },
          "execution_count": 8,
          "metadata": {},
          "output_type": "execute_result"
        }
      ],
      "source": [
        "\n",
        "Map = geemap.Map()\n",
        "\n",
        "# === TODO: REPLACE WITH YOUR OWN ROI COORDINATES ===\n",
        "roi = ee.Geometry.Point([18.0686, 59.3293])  # Example: Stockholm city center\n",
        "\n",
        "landsat = ee.ImageCollection('LANDSAT/LC08/C02/T1_TOA')\n",
        "\n",
        "image = (landsat\n",
        "         .filterDate('2021-01-01', '2021-12-31')\n",
        "         .filterBounds(roi)\n",
        "         .sort('CLOUD_COVER')\n",
        "         .first())\n",
        "\n",
        "print('A Landsat scene:', image)  # prints a server-side object reference\n",
        "props = image.toDictionary()\n",
        "print('Cloud cover:', props.get('CLOUD_COVER').getInfo())\n",
        "print('Acquisition date (DATE_ACQUIRED):', props.get('DATE_ACQUIRED').getInfo())\n",
        "\n",
        "Map.centerObject(roi, 10)\n",
        "Map.addLayer(roi, {}, 'ROI')\n",
        "Map\n"
      ]
    },
    {
      "cell_type": "markdown",
      "id": "ae1e8a5e",
      "metadata": {
        "id": "ae1e8a5e"
      },
      "source": [
        "\n",
        "### Part 2 – Task 1\n",
        "- Include a screenshot of your selected location from the map.  \n",
        "- Report the **cloud cover** and **acquisition date** (`DATE_ACQUIRED`) of your scene (see printed output).\n"
      ]
    },
    {
      "cell_type": "markdown",
      "id": "76826ada",
      "metadata": {
        "id": "76826ada"
      },
      "source": [
        "\n",
        "## 2.2 Visualizing Landsat 8 imagery\n",
        "A **true-color** image uses bands mapped to R, G, B ≈ human visual perception. A **false-color** composite uses other bands (e.g., NIR) to emphasize features.\n",
        "\n",
        "**a.** Add your image to the map as **true color**.\n"
      ]
    },
    {
      "cell_type": "code",
      "execution_count": 9,
      "id": "2f677ae0",
      "metadata": {
        "id": "2f677ae0"
      },
      "outputs": [
        {
          "data": {
            "text/html": [
              "\n",
              "            <style>\n",
              "                .geemap-dark {\n",
              "                    --jp-widgets-color: white;\n",
              "                    --jp-widgets-label-color: white;\n",
              "                    --jp-ui-font-color1: white;\n",
              "                    --jp-layout-color2: #454545;\n",
              "                    background-color: #383838;\n",
              "                }\n",
              "\n",
              "                .geemap-dark .jupyter-button {\n",
              "                    --jp-layout-color3: #383838;\n",
              "                }\n",
              "\n",
              "                .geemap-colab {\n",
              "                    background-color: var(--colab-primary-surface-color, white);\n",
              "                }\n",
              "\n",
              "                .geemap-colab .jupyter-button {\n",
              "                    --jp-layout-color3: var(--colab-primary-surface-color, white);\n",
              "                }\n",
              "            </style>\n",
              "            "
            ],
            "text/plain": [
              "<IPython.core.display.HTML object>"
            ]
          },
          "metadata": {},
          "output_type": "display_data"
        },
        {
          "data": {
            "application/vnd.jupyter.widget-view+json": {
              "model_id": "a506968640804415bb6b8bfc1e37f7e7",
              "version_major": 2,
              "version_minor": 0
            },
            "text/plain": [
              "Map(center=[59.3293, 18.0686], controls=(WidgetControl(options=['position', 'transparent_bg'], position='topri…"
            ]
          },
          "execution_count": 9,
          "metadata": {},
          "output_type": "execute_result"
        }
      ],
      "source": [
        "\n",
        "Map = geemap.Map()\n",
        "Map.centerObject(roi, 10)\n",
        "\n",
        "trueColor = {'bands': ['B4', 'B3', 'B2'], 'min': 0, 'max': 0.3}\n",
        "Map.addLayer(image, trueColor, 'True color')\n",
        "Map\n"
      ]
    },
    {
      "cell_type": "markdown",
      "id": "9c304dbf",
      "metadata": {
        "id": "9c304dbf"
      },
      "source": [
        "\n",
        "**b.** To select band names, consult the dataset's **BANDS** documentation in the Earth Engine Data Catalog.  \n",
        "**c.** Use the Inspector (click on the map) or the layer stretch tool (in the layer manager widget) to estimate reasonable `min`/`max` display ranges.\n"
      ]
    },
    {
      "cell_type": "markdown",
      "id": "d9d3bff4",
      "metadata": {
        "id": "d9d3bff4"
      },
      "source": [
        "\n",
        "### Part 2 – Task 2\n",
        "Add a **false-color** visualization of your scene. Use **Near Infrared (NIR)**, **Red**, and **Green** as RGB inputs.\n",
        "\n",
        "> **Fill in the correct band names** for NIR/Red/Green from the Landsat 8 TOA product page.\n",
        "\n",
        "Also add **one more visualization** (your choice) optimized for a particular environment (e.g., water vs. forest). Include screenshots and briefly justify your choices.\n"
      ]
    },
    {
      "cell_type": "code",
      "execution_count": 10,
      "id": "42bb32fd",
      "metadata": {
        "id": "42bb32fd"
      },
      "outputs": [
        {
          "data": {
            "text/html": [
              "\n",
              "            <style>\n",
              "                .geemap-dark {\n",
              "                    --jp-widgets-color: white;\n",
              "                    --jp-widgets-label-color: white;\n",
              "                    --jp-ui-font-color1: white;\n",
              "                    --jp-layout-color2: #454545;\n",
              "                    background-color: #383838;\n",
              "                }\n",
              "\n",
              "                .geemap-dark .jupyter-button {\n",
              "                    --jp-layout-color3: #383838;\n",
              "                }\n",
              "\n",
              "                .geemap-colab {\n",
              "                    background-color: var(--colab-primary-surface-color, white);\n",
              "                }\n",
              "\n",
              "                .geemap-colab .jupyter-button {\n",
              "                    --jp-layout-color3: var(--colab-primary-surface-color, white);\n",
              "                }\n",
              "            </style>\n",
              "            "
            ],
            "text/plain": [
              "<IPython.core.display.HTML object>"
            ]
          },
          "metadata": {},
          "output_type": "display_data"
        },
        {
          "data": {
            "application/vnd.jupyter.widget-view+json": {
              "model_id": "2d54d51ce68043b8a61ed1747d89ff58",
              "version_major": 2,
              "version_minor": 0
            },
            "text/plain": [
              "Map(center=[59.3293, 18.0686], controls=(WidgetControl(options=['position', 'transparent_bg'], position='topri…"
            ]
          },
          "execution_count": 10,
          "metadata": {},
          "output_type": "execute_result"
        }
      ],
      "source": [
        "\n",
        "falseColor = {\n",
        "    'bands': ['B5', 'B4', 'B3'],\n",
        "    'min': 0,\n",
        "    'max': 0.3\n",
        "}\n",
        "\n",
        "Map = geemap.Map()\n",
        "Map.centerObject(roi, 10)\n",
        "Map.addLayer(image, falseColor, 'False color (NIR-Red-Green)')\n",
        "\n",
        "# === OPTIONAL: Add another visualization tuned for a specific surface (e.g., water/forest) ===\n",
        "# Example: SWIR-NIR-Red to highlight moisture/urban\n",
        "customViz = {'bands': ['B6', 'B5', 'B4'], 'min': 0, 'max': 0.3}\n",
        "Map.addLayer(image, customViz, 'Custom viz (example)')\n",
        "Map\n"
      ]
    },
    {
      "cell_type": "markdown",
      "id": "a48c5806",
      "metadata": {
        "id": "a48c5806"
      },
      "source": [
        "\n",
        "---\n",
        "# Part 3 — Searching and Visualizing **Sentinel-2 (Level-1C)** imagery\n",
        "We will load the Stockholm County boundary, filter Sentinel-2 **L1C** images for summer 2021 with <10% clouds, build a median composite, and visualize several band combinations.\n"
      ]
    },
    {
      "cell_type": "markdown",
      "id": "5face851",
      "metadata": {
        "id": "5face851"
      },
      "source": [
        "\n",
        "## 3.1 Study area (Stockholm County) and Sentinel-2 filtering\n"
      ]
    },
    {
      "cell_type": "code",
      "execution_count": null,
      "id": "929f2e6b",
      "metadata": {
        "id": "929f2e6b"
      },
      "outputs": [
        {
          "data": {
            "text/html": [
              "\n",
              "            <style>\n",
              "                .geemap-dark {\n",
              "                    --jp-widgets-color: white;\n",
              "                    --jp-widgets-label-color: white;\n",
              "                    --jp-ui-font-color1: white;\n",
              "                    --jp-layout-color2: #454545;\n",
              "                    background-color: #383838;\n",
              "                }\n",
              "\n",
              "                .geemap-dark .jupyter-button {\n",
              "                    --jp-layout-color3: #383838;\n",
              "                }\n",
              "\n",
              "                .geemap-colab {\n",
              "                    background-color: var(--colab-primary-surface-color, white);\n",
              "                }\n",
              "\n",
              "                .geemap-colab .jupyter-button {\n",
              "                    --jp-layout-color3: var(--colab-primary-surface-color, white);\n",
              "                }\n",
              "            </style>\n",
              "            "
            ],
            "text/plain": [
              "<IPython.core.display.HTML object>"
            ]
          },
          "metadata": {},
          "output_type": "display_data"
        },
        {
          "name": "stdout",
          "output_type": "stream",
          "text": [
            "Number of S2 scenes (summer 2021, <10% clouds): 60\n"
          ]
        }
      ],
      "source": [
        "\n",
        "Map = geemap.Map()\n",
        "\n",
        "# Stockholm County boundary from GAUL 2015 Level-1\n",
        "assetId = 'FAO/GAUL_SIMPLIFIED_500m/2015/level1'\n",
        "boundaries = ee.FeatureCollection(assetId)\n",
        "stockholmCounty = (boundaries\n",
        "                   .filter(ee.Filter.eq('ADM1_NAME', 'Stockholms Laen'))\n",
        "                   .first()\n",
        "                   .geometry())\n",
        "\n",
        "Map.centerObject(stockholmCounty, 8)\n",
        "Map.addLayer(stockholmCounty, {}, 'Stockholm County')\n",
        "\n",
        "# Sentinel-2 MSI Level-1C collection\n",
        "s2 = (ee.ImageCollection('COPERNICUS/S2')\n",
        "      .filterDate('2021-06-01', '2021-08-31')\n",
        "      .filterBounds(stockholmCounty)\n",
        "      .filter(ee.Filter.lt('CLOUDY_PIXEL_PERCENTAGE', 10)))\n",
        "\n",
        "print('Number of S2 scenes (summer 2021, <10% clouds):', s2.size().getInfo())\n",
        "\n",
        "# Median composite clipped to county\n",
        "composite = s2.median().clip(stockholmCounty)\n",
        "\n",
        "# Visualizations: True color, Color IR, SWIR (SWIR2, NIR, Red)\n",
        "true_color = {'bands': ['B4', 'B3', 'B2'], 'min': 0, 'max': 3000}\n",
        "cir        = {'bands': ['B8', 'B4', 'B3'], 'min': 0, 'max': 3000}     # NIR, Red, Green\n",
        "swir       = {'bands': ['B12', 'B8', 'B4'], 'min': 0, 'max': 3000}    # SWIR2, NIR, Red\n",
        "\n",
        "Map.addLayer(composite, true_color, 'S2 True color (median)')\n",
        "Map.addLayer(composite, cir,        'S2 Color IR (median)')\n",
        "Map.addLayer(composite, swir,       'S2 SWIR (median)')\n",
        "Map\n"
      ]
    },
    {
      "cell_type": "markdown",
      "id": "44dfe9a9",
      "metadata": {
        "id": "44dfe9a9"
      },
      "source": [
        "\n",
        "### Part 3 – Task 1\n",
        "- Report how many **Sentinel-2** scenes satisfy the criteria (see printed output).  \n",
        "- Include **screenshots** of all three visualizations (True color, Color IR, SWIR).  \n",
        "- Name at least one **land cover** type that is well distinguishable in each visualization and explain why.\n"
      ]
    },
    {
      "cell_type": "markdown",
      "id": "39af1f8e",
      "metadata": {
        "id": "39af1f8e"
      },
      "source": [
        "\n",
        "---\n",
        "## Notes & Tips\n",
        "- Use `getInfo()` **sparingly** to pull small metadata or counts to the client; most operations should stay **server-side**.\n",
        "- In notebooks there is no Tasks panel; check export status with `task.status()` and `task.active()`.\n",
        "- If something fails with authentication, re-run the `ee.Authenticate()` / `ee.Initialize()` cell.\n",
        "- For ROI creation via the map, you can draw a point/polygon for orientation and then paste the coordinates into your `roi` variable for reproducible code.\n",
        "- Make sure all screenshots clearly show the **layer names** requested in each deliverable.\n"
      ]
    },
    {
      "cell_type": "markdown",
      "id": "18cdc706",
      "metadata": {
        "id": "18cdc706"
      },
      "source": []
    },
    {
      "cell_type": "markdown",
      "id": "1062ec25",
      "metadata": {
        "id": "1062ec25"
      },
      "source": [
        "\n",
        "\n",
        "---\n",
        "# Part 4 — Getting image pixels into **NumPy**\n",
        "\n",
        "For small cutouts (a few hundred pixels on a side), you can bring pixel values from Earth Engine to the client and work with them as `numpy.ndarray`. Keep the total pixel count modest and prefer **server‑side** processing or **exports** for large areas.\n",
        "\n",
        "We'll show two Python options:\n",
        "\n",
        "- **Recommended (simple):** `geemap.ee_to_numpy()` – returns a NumPy (masked) array for a given region/scale/CRS.\n",
        "- **Low‑level (Python‑only):** `ee.data.getPixels()` – directly fetches pixels; handy for very small chips. **If the chip is small enough, you can use this method.**\n"
      ]
    },
    {
      "cell_type": "markdown",
      "id": "3bfb87c6",
      "metadata": {
        "id": "3bfb87c6"
      },
      "source": [
        "\n",
        "## 4.1 Convenience method: `geemap.ee_to_numpy` (recommended)\n",
        "\n",
        "This pulls raw band values into a NumPy array for a small *chip* around a point.  \n",
        "The array shape is `(rows, cols, bands)`.\n",
        "\n",
        "- For **Sentinel‑2 L1C**, use `scale=10` for 10 m bands (e.g., B2/B3/B4/B8).\n",
        "- For **Landsat 8/9 TOA**, use `scale=30`.\n",
        "\n",
        "> Keep the chip small (e.g., ≤ 512×512) to avoid timeouts and large downloads.\n"
      ]
    },
    {
      "cell_type": "code",
      "execution_count": null,
      "id": "2c0bdcf3",
      "metadata": {
        "id": "2c0bdcf3"
      },
      "outputs": [
        {
          "data": {
            "text/html": [
              "\n",
              "            <style>\n",
              "                .geemap-dark {\n",
              "                    --jp-widgets-color: white;\n",
              "                    --jp-widgets-label-color: white;\n",
              "                    --jp-ui-font-color1: white;\n",
              "                    --jp-layout-color2: #454545;\n",
              "                    background-color: #383838;\n",
              "                }\n",
              "\n",
              "                .geemap-dark .jupyter-button {\n",
              "                    --jp-layout-color3: #383838;\n",
              "                }\n",
              "\n",
              "                .geemap-colab {\n",
              "                    background-color: var(--colab-primary-surface-color, white);\n",
              "                }\n",
              "\n",
              "                .geemap-colab .jupyter-button {\n",
              "                    --jp-layout-color3: var(--colab-primary-surface-color, white);\n",
              "                }\n",
              "            </style>\n",
              "            "
            ],
            "text/plain": [
              "<IPython.core.display.HTML object>"
            ]
          },
          "metadata": {},
          "output_type": "display_data"
        },
        {
          "name": "stdout",
          "output_type": "stream",
          "text": [
            "NumPy array shape: (537, 535, 3) (rows, cols, bands)\n",
            "dtype: float32\n",
            "per-band min/max: [  1. 406.  72.] [24691. 12161. 11730.]\n"
          ]
        }
      ],
      "source": [
        "\n",
        "import ee, geemap, numpy as np\n",
        "\n",
        "# Choose a point (Stockholm by default) and the smallest-cloud Sentinel-2 image in summer 2021.\n",
        "roi = ee.Geometry.Point([18.0686, 59.3293])\n",
        "\n",
        "image = (ee.ImageCollection('COPERNICUS/S2')\n",
        "         .filterBounds(roi)\n",
        "         .filterDate('2021-06-01', '2021-08-31')\n",
        "         .sort('CLOUDY_PIXEL_PERCENTAGE')\n",
        "         .first()\n",
        "         .select(['B4', 'B3', 'B2']))  # Red, Green, Blue\n",
        "\n",
        "# Build a ~512x512 chip at 10 m (≈ 5.1 km across). Buffer radius = half the target width * scale.\n",
        "chip = roi.buffer(256 * 10).bounds()\n",
        "\n",
        "# Download to a NumPy masked array. Shape: (rows, cols, bands)\n",
        "arr = geemap.ee_to_numpy(image, region=chip, scale=10)\n",
        "\n",
        "# Convert to a standard ndarray with NaNs for masked pixels (optional)\n",
        "arr_f32 = np.array(arr, dtype=np.float32)\n",
        "if hasattr(arr, \"mask\"):\n",
        "    arr_f32 = np.where(np.broadcast_to(~arr.mask[..., :1], arr.shape), arr_f32, np.nan)\n",
        "\n",
        "print(\"NumPy array shape:\", arr_f32.shape, \"(rows, cols, bands)\")\n",
        "print(\"dtype:\", arr_f32.dtype)\n",
        "print(\"per-band min/max:\", np.nanmin(arr_f32, axis=(0,1)), np.nanmax(arr_f32, axis=(0,1)))\n"
      ]
    },
    {
      "cell_type": "markdown",
      "id": "e8eaf062",
      "metadata": {
        "id": "e8eaf062"
      },
      "source": [
        "\n",
        "## 4.2 Low‑level method: `ee.data.getPixels`\n",
        "\n",
        "`ee.data.getPixels` can return pixels directly as a **NumPy structured array** when `fileFormat='NUMPY_NDARRAY'`. This is fast and explicit, but you must define a grid (CRS, transform, width/height). Use it for **small** requests only.\n",
        "\n",
        "The example below fetches a 512×512 chip (B4/B3/B2) centered on Stockholm. It converts the structured array to a standard `(H, W, 3)` NumPy array.\n"
      ]
    },
    {
      "cell_type": "code",
      "execution_count": null,
      "id": "c5528983",
      "metadata": {
        "id": "c5528983"
      },
      "outputs": [
        {
          "data": {
            "text/html": [
              "\n",
              "            <style>\n",
              "                .geemap-dark {\n",
              "                    --jp-widgets-color: white;\n",
              "                    --jp-widgets-label-color: white;\n",
              "                    --jp-ui-font-color1: white;\n",
              "                    --jp-layout-color2: #454545;\n",
              "                    background-color: #383838;\n",
              "                }\n",
              "\n",
              "                .geemap-dark .jupyter-button {\n",
              "                    --jp-layout-color3: #383838;\n",
              "                }\n",
              "\n",
              "                .geemap-colab {\n",
              "                    background-color: var(--colab-primary-surface-color, white);\n",
              "                }\n",
              "\n",
              "                .geemap-colab .jupyter-button {\n",
              "                    --jp-layout-color3: var(--colab-primary-surface-color, white);\n",
              "                }\n",
              "            </style>\n",
              "            "
            ],
            "text/plain": [
              "<IPython.core.display.HTML object>"
            ]
          },
          "metadata": {},
          "output_type": "display_data"
        },
        {
          "name": "stdout",
          "output_type": "stream",
          "text": [
            "Structured fields: ('B4', 'B3', 'B2')\n",
            "RGB array shape: (512, 512, 3) (H, W, 3)\n",
            "dtype: float32 min/max: 1.0 24691.0\n"
          ]
        }
      ],
      "source": [
        "\n",
        "import ee, numpy as np\n",
        "\n",
        "\n",
        "coords = [18.0686, 59.3293]  # Stockholm\n",
        "pt = ee.Geometry.Point(coords)\n",
        "\n",
        "# Least-cloud Sentinel-2 image in summer 2021 (RGB bands selected in B4,B3,B2 order)\n",
        "image = (ee.ImageCollection('COPERNICUS/S2')\n",
        "         .filterBounds(pt)\n",
        "         .filterDate('2021-06-01', '2021-08-31')\n",
        "         .sort('CLOUDY_PIXEL_PERCENTAGE')\n",
        "         .first()\n",
        "         .select(['B4', 'B3', 'B2']))\n",
        "\n",
        "# Retrieve the asset ID needed by getPixels.\n",
        "image_id = image.getInfo()['id']\n",
        "\n",
        "# Build a projection in EPSG:4326 at ~10 m scale (degrees-per-pixel).\n",
        "proj = ee.Projection('EPSG:4326').atScale(10).getInfo()\n",
        "scale_x = proj['transform'][0]\n",
        "scale_y = -proj['transform'][4]\n",
        "\n",
        "# Request a NUMPY_NDARRAY (structured array) directly.\n",
        "request = {\n",
        "    'assetId': image_id,\n",
        "    'fileFormat': 'NUMPY_NDARRAY',\n",
        "    'bandIds': ['B4', 'B3', 'B2'],  # Red, Green, Blue\n",
        "    'grid': {\n",
        "        'dimensions': {'width': 512, 'height': 512},\n",
        "        'affineTransform': {\n",
        "            'scaleX': scale_x, 'shearX': 0, 'translateX': coords[0],\n",
        "            'shearY': 0,       'scaleY': scale_y, 'translateY': coords[1],\n",
        "        },\n",
        "        'crsCode': proj['crs'],\n",
        "    }\n",
        "}\n",
        "\n",
        "arr_struct = ee.data.getPixels(request)  # Structured ndarray with fields 'B4','B3','B2'\n",
        "\n",
        "# Convert structured array (H,W) -> standard HxWxC float32 array\n",
        "rgb = np.dstack([arr_struct['B4'], arr_struct['B3'], arr_struct['B2']]).astype(np.float32)\n",
        "\n",
        "print(\"Structured fields:\", arr_struct.dtype.names)\n",
        "print(\"RGB array shape:\", rgb.shape, \"(H, W, 3)\")\n",
        "print(\"dtype:\", rgb.dtype, \"min/max:\", np.nanmin(rgb), np.nanmax(rgb))\n"
      ]
    },
    {
      "cell_type": "markdown",
      "id": "66a56dca",
      "metadata": {
        "id": "66a56dca"
      },
      "source": [
        "\n",
        "### Part 4 – Task 1 (optional)\n",
        "- Use **either** method above to fetch a 256×256 RGB chip over your own ROI.\n",
        "- Print the array **shape**, **dtype**, and **per‑band min/max**.\n",
        "- Include a short note on when you would *avoid* client‑side pixel downloads and prefer server‑side operations or an export.\n"
      ]
    }
  ],
  "metadata": {
    "colab": {
      "provenance": []
    },
    "kernelspec": {
      "display_name": "ag2413",
      "language": "python",
      "name": "python3"
    },
    "language_info": {
      "codemirror_mode": {
        "name": "ipython",
        "version": 3
      },
      "file_extension": ".py",
      "mimetype": "text/x-python",
      "name": "python",
      "nbconvert_exporter": "python",
      "pygments_lexer": "ipython3",
      "version": "3.13.9"
    }
  },
  "nbformat": 4,
  "nbformat_minor": 5
}
